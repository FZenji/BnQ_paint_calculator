{
 "cells": [
  {
   "cell_type": "code",
   "execution_count": 2,
   "metadata": {},
   "outputs": [
    {
     "name": "stdout",
     "output_type": "stream",
     "text": [
      "hello world\n",
      "2\n"
     ]
    }
   ],
   "source": [
    "print(\"hello world\")\n",
    "print(int(2.5))"
   ]
  },
  {
   "cell_type": "code",
   "execution_count": 13,
   "metadata": {},
   "outputs": [
    {
     "name": "stdout",
     "output_type": "stream",
     "text": [
      "1. <class 'int'>\n",
      "2. <class 'str'>\n",
      "3. <class 'str'>\n",
      "4. <class 'float'>\n",
      "5. <class 'int'>\n",
      "6. <class 'int'>\n",
      "7. <class 'int'>\n",
      "8. <class 'bool'>\n"
     ]
    }
   ],
   "source": [
    "print(\"\\n\".join((f\"{i+1}. {type(var)}\") for i, var in enumerate([14, \"Y\", \"Hello!\", 2.5, 307, -1, 438000000, False])))"
   ]
  },
  {
   "cell_type": "code",
   "execution_count": 14,
   "metadata": {},
   "outputs": [
    {
     "name": "stdout",
     "output_type": "stream",
     "text": [
      "1. <class 'int'>\n",
      "2. <class 'str'>\n",
      "3. <class 'str'>\n",
      "4. <class 'float'>\n",
      "5. <class 'int'>\n",
      "6. <class 'int'>\n",
      "7. <class 'int'>\n",
      "8. <class 'bool'>\n"
     ]
    }
   ],
   "source": [
    "# List of variables to get the type of\n",
    "questions = [14, \"Y\", \"Hello!\", 2.5, 307, -1, 438000000, False]\n",
    "# Generator goes through the list, gets the index and type of each item\n",
    "generator = (f\"{questions.index(var)+1}. {type(var)}\" for var in questions)\n",
    "# Print each answer on a new line\n",
    "print(\"\\n\".join(generator))"
   ]
  },
  {
   "cell_type": "code",
   "execution_count": 16,
   "metadata": {},
   "outputs": [
    {
     "name": "stdout",
     "output_type": "stream",
     "text": [
      "Greater\n"
     ]
    }
   ],
   "source": [
    "x = 50\n",
    "y = 10\n",
    "\n",
    "print(\"Greater\" if x > y else None)"
   ]
  },
  {
   "cell_type": "code",
   "execution_count": 18,
   "metadata": {},
   "outputs": [
    {
     "name": "stdout",
     "output_type": "stream",
     "text": [
      "Equal\n"
     ]
    }
   ],
   "source": [
    "x = 50\n",
    "y = 50\n",
    "print(\"Equal\" if x == y else None)"
   ]
  },
  {
   "cell_type": "code",
   "execution_count": 22,
   "metadata": {},
   "outputs": [
    {
     "name": "stdout",
     "output_type": "stream",
     "text": [
      "Equal\n",
      "Unequal\n",
      "\n"
     ]
    }
   ],
   "source": [
    "def compare(x, y):\n",
    "    return \"Equal\" if x == y else \"Unequal\"\n",
    "\n",
    "print(compare(50, 50), compare(51, 49), sep=\"\\n\")\n"
   ]
  },
  {
   "cell_type": "code",
   "execution_count": 23,
   "metadata": {},
   "outputs": [
    {
     "name": "stdout",
     "output_type": "stream",
     "text": [
      "1\n",
      "2\n",
      "3\n"
     ]
    }
   ],
   "source": [
    "def compare(x, y):\n",
    "    if x == y:\n",
    "        return \"1\"\n",
    "    elif x > y:\n",
    "        return \"2\"\n",
    "    else:\n",
    "        return \"3\"\n",
    "    \n",
    "print(compare(50, 50), compare(57, 50), compare(5, 50), sep=\"\\n\")"
   ]
  },
  {
   "cell_type": "code",
   "execution_count": 24,
   "metadata": {},
   "outputs": [
    {
     "name": "stdout",
     "output_type": "stream",
     "text": [
      "Sunday\n"
     ]
    }
   ],
   "source": [
    "day = 2\n",
    "match day:\n",
    "    case 1:\n",
    "        print(\"Saturday\")\n",
    "    case 2:\n",
    "        print(\"Sunday\")"
   ]
  },
  {
   "cell_type": "code",
   "execution_count": 33,
   "metadata": {},
   "outputs": [
    {
     "name": "stdout",
     "output_type": "stream",
     "text": [
      "Weekday\n"
     ]
    }
   ],
   "source": [
    "day = 4\n",
    "match day:\n",
    "    case 1:\n",
    "        print(\"Saturday\")\n",
    "    case 2:\n",
    "        print(\"Sunday\")\n",
    "    case _:\n",
    "        print(\"Weekday\")"
   ]
  },
  {
   "cell_type": "code",
   "execution_count": 29,
   "metadata": {},
   "outputs": [
    {
     "name": "stdout",
     "output_type": "stream",
     "text": [
      "0\n",
      "1\n",
      "2\n",
      "3\n",
      "4\n",
      "5\n"
     ]
    }
   ],
   "source": [
    "i = 0\n",
    "while i < 6:\n",
    "    print(i)\n",
    "    i += 1\n"
   ]
  },
  {
   "cell_type": "code",
   "execution_count": 28,
   "metadata": {},
   "outputs": [
    {
     "name": "stdout",
     "output_type": "stream",
     "text": [
      "1\n",
      "2\n"
     ]
    }
   ],
   "source": [
    "for i in range(1, 6):\n",
    "    if i == 3:\n",
    "        break\n",
    "    print(i)"
   ]
  },
  {
   "cell_type": "code",
   "execution_count": 31,
   "metadata": {},
   "outputs": [
    {
     "name": "stdout",
     "output_type": "stream",
     "text": [
      "3\n",
      "4\n",
      "5\n",
      "7\n"
     ]
    }
   ],
   "source": [
    "j = 3\n",
    "while j < 8:\n",
    "    if j != 6:\n",
    "        print(j)\n",
    "    j += 1"
   ]
  },
  {
   "cell_type": "code",
   "execution_count": 32,
   "metadata": {},
   "outputs": [
    {
     "name": "stdout",
     "output_type": "stream",
     "text": [
      "1 apple\n",
      "1 banana\n",
      "1 cherry\n",
      "2 apple\n",
      "2 banana\n",
      "2 cherry\n",
      "3 apple\n",
      "3 banana\n",
      "3 cherry\n",
      "4 apple\n",
      "4 banana\n",
      "4 cherry\n",
      "5 apple\n",
      "5 banana\n",
      "5 cherry\n"
     ]
    }
   ],
   "source": [
    "list1 = [1, 2, 3, 4, 5]\n",
    "list2 = [\"apple\", \"banana\", \"cherry\"]\n",
    "for number in list1:\n",
    "    for fruit in list2:\n",
    "        print(f\"{number} {fruit}\")"
   ]
  },
  {
   "cell_type": "code",
   "execution_count": 1,
   "metadata": {},
   "outputs": [
    {
     "name": "stdout",
     "output_type": "stream",
     "text": [
      "5\n"
     ]
    }
   ],
   "source": [
    "def getTotal(a, b):\n",
    "    return a + b\n",
    "\n",
    "print(getTotal(2, 3))"
   ]
  },
  {
   "cell_type": "code",
   "execution_count": 4,
   "metadata": {},
   "outputs": [
    {
     "name": "stdout",
     "output_type": "stream",
     "text": [
      "Model: Toyota Camry\n",
      "Color: Blue\n"
     ]
    }
   ],
   "source": [
    "class Car:\n",
    "    def __init__(self, model, color):\n",
    "        self.model = model\n",
    "        self.color = color\n",
    "\n",
    "    def print_info(self):\n",
    "        print(\"Model: \" + self.model)\n",
    "        print(\"Color: \" + self.color)\n",
    "\n",
    "\n",
    "if __name__ == \"__main__\":\n",
    "    my_car = Car(model=\"Toyota Camry\", color=\"Blue\")\n",
    "    my_car.print_info()\n"
   ]
  },
  {
   "cell_type": "code",
   "execution_count": 1,
   "metadata": {},
   "outputs": [
    {
     "name": "stdout",
     "output_type": "stream",
     "text": [
      "[\"Alice's highest score: 92\", \"Bob's highest score: 85\", \"Charlie's highest score: 95\"]\n"
     ]
    }
   ],
   "source": [
    "results = {\n",
    "    'Alice': [85, 90, 92],\n",
    "    'Bob': [78, 85, 80],\n",
    "    'Charlie': [92, 88, 95],\n",
    "}\n",
    "\n",
    "print([f\"{student}'s highest score: {max(scores)}\" for student, scores in results.items()])"
   ]
  },
  {
   "cell_type": "code",
   "execution_count": 3,
   "metadata": {},
   "outputs": [
    {
     "name": "stdout",
     "output_type": "stream",
     "text": [
      "{'Alice': 89, 'Bob': 81, 'Charlie': 91.66666666666667}\n"
     ]
    }
   ],
   "source": [
    "import statistics\n",
    "\n",
    "averages = dict([(student, statistics.mean(scores)) for student, scores in results.items()])\n",
    "print(averages)"
   ]
  },
  {
   "cell_type": "code",
   "execution_count": 47,
   "metadata": {},
   "outputs": [
    {
     "name": "stdout",
     "output_type": "stream",
     "text": [
      "deque(['DOB', 'age', 'name'])\n",
      "deque([95, 88, 92])\n"
     ]
    }
   ],
   "source": [
    "from collections import deque, ChainMap\n",
    "\n",
    "def reverseQ(queue):\n",
    "    return deque(list(queue)[::-1])\n",
    "\n",
    "print(reverseQ(deque(['name','age','DOB'])))\n",
    "print(reverseQ(deque([92, 88, 95])))"
   ]
  },
  {
   "cell_type": "code",
   "execution_count": 48,
   "metadata": {},
   "outputs": [
    {
     "name": "stdout",
     "output_type": "stream",
     "text": [
      "[{'Burger': 5, 'Hotdog': 6, 'Onion Rings': 2}, {'Car': 20, 'Barbie': 12, 'Football': 15}]\n",
      "[{'Burger': 5, 'Hotdog': 6, 'Onion Rings': 2, 'Plane': 20}, {'Car': 20, 'Barbie': 12, 'Football': 15}]\n",
      "[{'Football': 20}, {'Burger': 5, 'Hotdog': 6, 'Onion Rings': 2, 'Plane': 20}, {'Car': 20, 'Barbie': 12, 'Football': 15}]\n"
     ]
    }
   ],
   "source": [
    "from collections import ChainMap\n",
    "\n",
    "def addNewPrice(prodcut, price, history):\n",
    "    if prodcut in history.keys():\n",
    "        history = history.new_child({prodcut: price})\n",
    "    history[prodcut] = price\n",
    "    return history\n",
    "\n",
    "history = ChainMap({\"Burger\": 5, \"Hotdog\": 6, \"Onion Rings\": 2}, {\"Car\": 20, \"Barbie\": 12, \"Football\": 15})\n",
    "\n",
    "print(history.maps)\n",
    "history = addNewPrice(\"Plane\", 20, history)\n",
    "print(history.maps)\n",
    "history = addNewPrice(\"Football\", 20, history)\n",
    "print(history.maps)\n"
   ]
  },
  {
   "cell_type": "code",
   "execution_count": 5,
   "metadata": {},
   "outputs": [],
   "source": [
    "import os\n",
    "import json\n",
    "import csv\n",
    "\n",
    "directory = 'externalFiles'\n",
    "\n",
    "for filename in os.listdir(directory):\n",
    "    if filename.endswith('.json'):\n",
    "\n",
    "        json_file_path = os.path.join(directory, filename)\n",
    "        csv_file_path = os.path.join(directory, f'{os.path.splitext(filename)[0]}.csv')\n",
    "\n",
    "        # Read data from JSON file\n",
    "        with open(json_file_path, 'r') as json_file:\n",
    "            data = json.load(json_file)\n",
    "\n",
    "        # Write data to CSV file\n",
    "        with open(csv_file_path, 'w', newline='') as csv_file:\n",
    "            # Assuming data is a list of dictionaries\n",
    "            fieldnames = data[0].keys() if data else []\n",
    "            writer = csv.DictWriter(csv_file, fieldnames=fieldnames)\n",
    "\n",
    "            # Write header\n",
    "            writer.writeheader()\n",
    "\n",
    "            # Write data\n",
    "            writer.writerows(data)\n"
   ]
  },
  {
   "cell_type": "code",
   "execution_count": 41,
   "metadata": {},
   "outputs": [
    {
     "name": "stdout",
     "output_type": "stream",
     "text": [
      "10\n",
      "6\n",
      "3\n",
      "7\n",
      "10\n",
      "10\n",
      "0\n",
      "5\n",
      "2\n",
      "4\n",
      "2\n",
      "3\n",
      "0\n",
      "10\n",
      "4\n",
      "7\n",
      "6\n",
      "1\n",
      "2\n",
      "0\n",
      "9\n",
      "5\n",
      "4\n",
      "10\n",
      "2\n"
     ]
    }
   ],
   "source": [
    "import random\n",
    "\n",
    "mines = {\"rows\": [3], \"cols\": [4]}\n",
    "ROWS = 10\n",
    "for _ in range(25):\n",
    "    # print(random.choice([i for i in range(0, ROWS) if i not in mines[\"rows\"]]))\n",
    "    print(random.randint(0, ROWS))"
   ]
  }
 ],
 "metadata": {
  "kernelspec": {
   "display_name": "Python 3",
   "language": "python",
   "name": "python3"
  },
  "language_info": {
   "codemirror_mode": {
    "name": "ipython",
    "version": 3
   },
   "file_extension": ".py",
   "mimetype": "text/x-python",
   "name": "python",
   "nbconvert_exporter": "python",
   "pygments_lexer": "ipython3",
   "version": "3.10.1"
  }
 },
 "nbformat": 4,
 "nbformat_minor": 2
}
