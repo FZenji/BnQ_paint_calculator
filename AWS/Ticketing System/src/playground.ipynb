{
 "cells": [
  {
   "cell_type": "code",
   "execution_count": 1,
   "metadata": {},
   "outputs": [
    {
     "name": "stdout",
     "output_type": "stream",
     "text": [
      "401\n",
      "{'error': {'code': 'InvalidAuthenticationToken', 'message': 'Access token is empty.', 'innerError': {'date': '2024-02-13T17:38:27', 'request-id': 'd8b4a2ae-ed33-44d0-98d6-fb1a63b6ded5', 'client-request-id': 'd8b4a2ae-ed33-44d0-98d6-fb1a63b6ded5'}}}\n"
     ]
    }
   ],
   "source": [
    "import requests\n",
    "\n",
    "response = requests.get(\"https://graph.microsoft.com/v1.0/me/chats?$top=1\")\n",
    "print(response.status_code)\n",
    "print(response.json())"
   ]
  },
  {
   "cell_type": "code",
   "execution_count": 10,
   "metadata": {},
   "outputs": [],
   "source": [
    "import boto3\n",
    "\n",
    "sqs = boto3.resource('sqs')\n",
    "\n",
    "sqs.create_queue(QueueName='Low', Attributes={'DelaySeconds': '5'})\n",
    "sqs.create_queue(QueueName='Medium', Attributes={'DelaySeconds': '5'})\n",
    "sqs.create_queue(QueueName='High', Attributes={'DelaySeconds': '5'})"
   ]
  },
  {
   "cell_type": "code",
   "execution_count": 7,
   "metadata": {},
   "outputs": [
    {
     "name": "stdout",
     "output_type": "stream",
     "text": [
      "7eea9405-78cc-4b27-82f2-eb7ca77a5075\n",
      "79b966d5a6b181baebb251f0fd99b2ee\n",
      "{'MD5OfMessageBody': '79b966d5a6b181baebb251f0fd99b2ee', 'MessageId': '7eea9405-78cc-4b27-82f2-eb7ca77a5075', 'ResponseMetadata': {'RequestId': '02f52313-660a-5eec-b27e-7d56d204dc7d', 'HTTPStatusCode': 200, 'HTTPHeaders': {'x-amzn-requestid': '02f52313-660a-5eec-b27e-7d56d204dc7d', 'date': 'Tue, 13 Feb 2024 18:15:42 GMT', 'content-type': 'text/xml', 'content-length': '378', 'connection': 'keep-alive'}, 'RetryAttempts': 0}}\n"
     ]
    }
   ],
   "source": [
    "import json\n",
    "queue = sqs.get_queue_by_name(QueueName='test')\n",
    "\n",
    "body = {\n",
    "    \"title\": \"data.title\",\n",
    "    \"description\": \"data.description\",\n",
    "}\n",
    "\n",
    "# Create a new message\n",
    "response = queue.send_message(MessageBody=json.dumps(body))\n",
    "\n",
    "# The response is NOT a resource, but gives you a message ID and MD5\n",
    "print(response.get('MessageId'))\n",
    "print(response.get('MD5OfMessageBody'))\n",
    "print(response)"
   ]
  }
 ],
 "metadata": {
  "kernelspec": {
   "display_name": "Python 3",
   "language": "python",
   "name": "python3"
  },
  "language_info": {
   "codemirror_mode": {
    "name": "ipython",
    "version": 3
   },
   "file_extension": ".py",
   "mimetype": "text/x-python",
   "name": "python",
   "nbconvert_exporter": "python",
   "pygments_lexer": "ipython3",
   "version": "3.12.1"
  }
 },
 "nbformat": 4,
 "nbformat_minor": 2
}
